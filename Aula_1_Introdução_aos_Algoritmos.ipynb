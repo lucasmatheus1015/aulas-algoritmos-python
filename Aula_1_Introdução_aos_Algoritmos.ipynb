{
  "nbformat": 4,
  "nbformat_minor": 0,
  "metadata": {
    "colab": {
      "provenance": [],
      "authorship_tag": "ABX9TyMhZkwg4+xK/KSXjOhCDJAi",
      "include_colab_link": true
    },
    "kernelspec": {
      "name": "python3",
      "display_name": "Python 3"
    },
    "language_info": {
      "name": "python"
    }
  },
  "cells": [
    {
      "cell_type": "markdown",
      "metadata": {
        "id": "view-in-github",
        "colab_type": "text"
      },
      "source": [
        "<a href=\"https://colab.research.google.com/github/lucasmatheus1015/aulas-algoritmos-python/blob/main/Aula_1_Introdu%C3%A7%C3%A3o_aos_Algoritmos.ipynb\" target=\"_parent\"><img src=\"https://colab.research.google.com/assets/colab-badge.svg\" alt=\"Open In Colab\"/></a>"
      ]
    },
    {
      "cell_type": "markdown",
      "source": [
        "Aula 01 - Introdução aos Algoritmos"
      ],
      "metadata": {
        "id": "RbXR_5c4EQ6w"
      }
    },
    {
      "cell_type": "code",
      "source": [
        "print('Sistema de Verificação de Idade para votar')\n",
        "print(\"Olá, Boa Noite...\")\n",
        "name = input(\"Qual o seu nome? \")\n",
        "print(\"Seja Bem Vindo(a)\"+\" \"+ name)\n",
        "age = int(input(\"Qual a sua idade? \"))\n",
        "if age >= 18:\n",
        "    print(\"Maior de Idade, o Voto é obrigatório!\")\n",
        "else:\n",
        "    print('Menor de Idade, não vota!')"
      ],
      "metadata": {
        "colab": {
          "base_uri": "https://localhost:8080/"
        },
        "id": "USnOvetr9H_e",
        "outputId": "a27f37ed-7fb3-48f2-c357-0da3b69fa12c"
      },
      "execution_count": null,
      "outputs": [
        {
          "output_type": "stream",
          "name": "stdout",
          "text": [
            "Sistema de Verificação de Idade para votar\n",
            "Olá, Boa Noite...\n",
            "Qual o seu nome? Lucas\n",
            "Seja Bem Vindo(a) Lucas\n",
            "Qual a sua idade? 20\n",
            "Maior de Idade, o Voto é obrigatório!\n"
          ]
        }
      ]
    },
    {
      "cell_type": "code",
      "source": [],
      "metadata": {
        "id": "EnMEKgOCEPPw"
      },
      "execution_count": null,
      "outputs": []
    },
    {
      "cell_type": "code",
      "source": [
        "#Variáveis númericas/ Média de nota do Aluno\n",
        "notaA = 8\n",
        "notaB = 7\n",
        "notaC = 5\n",
        "def media( ):\n",
        "  return (notaA + notaB + notaC) / 3\n",
        "\n",
        "print(media())"
      ],
      "metadata": {
        "colab": {
          "base_uri": "https://localhost:8080/"
        },
        "outputId": "1ddf97df-e9a4-49fd-ebf9-53593bb171d6",
        "id": "giXf3MQkDaXC"
      },
      "execution_count": null,
      "outputs": [
        {
          "output_type": "stream",
          "name": "stdout",
          "text": [
            "6.666666666666667\n"
          ]
        }
      ]
    },
    {
      "cell_type": "code",
      "source": [
        "nome = \"Cristiane\"\n",
        "preco = 12.5 # Númerica mas pertence aos reais\n",
        "idade = 30 # Númerica mas pertencte aos inteiros\n",
        "ehMaior = idade > 18 # Lógica ou booleanas George Boole"
      ],
      "metadata": {
        "colab": {
          "base_uri": "https://localhost:8080/"
        },
        "id": "kC71DRh7yN2N",
        "outputId": "156c270d-9b5d-498d-8a4b-c0bd023eb243"
      },
      "execution_count": null,
      "outputs": [
        {
          "output_type": "execute_result",
          "data": {
            "text/plain": [
              "float"
            ]
          },
          "metadata": {},
          "execution_count": 3
        }
      ]
    },
    {
      "cell_type": "code",
      "source": [
        "type(ehMaior)"
      ],
      "metadata": {
        "colab": {
          "base_uri": "https://localhost:8080/"
        },
        "id": "11LqMckmzPse",
        "outputId": "46932d7b-3a2d-4eea-bbe1-6a8602ea9169"
      },
      "execution_count": null,
      "outputs": [
        {
          "output_type": "execute_result",
          "data": {
            "text/plain": [
              "bool"
            ]
          },
          "metadata": {},
          "execution_count": 4
        }
      ]
    },
    {
      "cell_type": "markdown",
      "source": [
        "Entrada de Dados no Notepad (INPUTS)"
      ],
      "metadata": {
        "id": "q1l29g421pWJ"
      }
    },
    {
      "cell_type": "code",
      "source": [
        "Time = input(\"Insira seu time do coração: \")\n",
        "print(Time)"
      ],
      "metadata": {
        "colab": {
          "base_uri": "https://localhost:8080/"
        },
        "id": "1KEM4CDD1zzr",
        "outputId": "f411bfc1-be7f-44b5-cd1b-774a4978eaee"
      },
      "execution_count": 22,
      "outputs": [
        {
          "output_type": "stream",
          "name": "stdout",
          "text": [
            "Insira seu time do coração: FC Bayern De Munich\n",
            "FC Bayern De Munich\n"
          ]
        }
      ]
    },
    {
      "cell_type": "code",
      "source": [
        "print(\"Sistema de Resolução de Equações\")\n",
        "print(\"Equação 1: aX + b = c\");\n",
        "a = int(input(\"Digite o valor de a: \"))\n",
        "b = int(input(\"Digite o valor de b: \"))\n",
        "c = int(input(\"Digite o valor de c: \"))\n",
        "print(\"A equação está definida da seguinte maneira: \",a,\"x + \",b,\" = \", c)\n",
        "x = (c - b) / a\n",
        "res = x\n",
        "print(\"o resultado da sua equação é: \", res)"
      ],
      "metadata": {
        "colab": {
          "base_uri": "https://localhost:8080/"
        },
        "id": "iB3I_afx2qyA",
        "outputId": "3bb45c2a-c0ef-4fec-ad66-f3adeab750f4"
      },
      "execution_count": 28,
      "outputs": [
        {
          "output_type": "stream",
          "name": "stdout",
          "text": [
            "Sistema de Resolução de Equações\n",
            "Equação 1: aX + b = c\n",
            "Digite o valor de a: 2\n",
            "Digite o valor de b: 3\n",
            "Digite o valor de c: 15\n",
            "A equação está definida da seguinte maneira:  2 x +  3  =  15\n",
            "o resultado da sua equação é:  6.0\n"
          ]
        }
      ]
    },
    {
      "cell_type": "code",
      "source": [
        "#Pedir um número ao usuário e retornar o dobro e a metade deste número:\n",
        "numero  = int(input(\"Digite um número: \"))\n",
        "print(numero * 2)\n",
        "\n",
        "print(numero / 2)"
      ],
      "metadata": {
        "colab": {
          "base_uri": "https://localhost:8080/"
        },
        "id": "08J2RWxm6olv",
        "outputId": "e5bf2a12-fab1-4cfa-fc59-44a35bc0f3cc"
      },
      "execution_count": 29,
      "outputs": [
        {
          "output_type": "stream",
          "name": "stdout",
          "text": [
            "Digite um número: 155\n",
            "310\n",
            "77.5\n"
          ]
        }
      ]
    },
    {
      "cell_type": "code",
      "source": [
        "# A circunferencia do circulo é medida pela formula 2 * pi * raio\n",
        "# Faça um algoritmo que pede o raio e retorna a circunferencia use pi = 3.14\n",
        "pi = 3.14\n",
        "raio = int(input(\"Digite o raio da circuferência: \"))\n",
        "circun = 2 * pi * raio\n",
        "print(\"O valor da circunferência segundo o raio\",raio, \"é \",circun)"
      ],
      "metadata": {
        "id": "puRsHn0H6-ox"
      },
      "execution_count": null,
      "outputs": []
    },
    {
      "cell_type": "markdown",
      "source": [
        "Calculo de IMC"
      ],
      "metadata": {
        "id": "eWVs7Ru_BUvw"
      }
    },
    {
      "cell_type": "code",
      "source": [
        "#Solicite ao Usuário a altura e o peso\n",
        "#Retorna o cálculo do IMC\n",
        "#peso / altura ao quadrado\n",
        "nome = input(\"Olá, qual o seu nome? \")\n",
        "peso = float(input(\"Digite a sua altura: \"))\n",
        "altura = float(input(\"Digite o seu peso: \"))\n",
        "imc = peso / altura**2\n",
        "print(\"O imc de\",nome,\"é \", imc)"
      ],
      "metadata": {
        "colab": {
          "base_uri": "https://localhost:8080/"
        },
        "id": "b6X1SV7N84Ec",
        "outputId": "7504aca1-3bc6-4933-8a63-a5376c1f8a00"
      },
      "execution_count": 34,
      "outputs": [
        {
          "output_type": "stream",
          "name": "stdout",
          "text": [
            "Olá, qual o seu nome? Lucas\n",
            "Digite a sua altura: 1.58\n",
            "Digite o seu peso: 65\n",
            "O imc de Lucas é  0.0\n"
          ]
        }
      ]
    },
    {
      "cell_type": "markdown",
      "source": [
        "Conversor de Celsius para Kelvin"
      ],
      "metadata": {
        "id": "jqzsY7TRBOY5"
      }
    },
    {
      "cell_type": "code",
      "source": [
        "#Converter uma temperatura em graus celsius para kelvin\n",
        "#temperatura em celsius e soma 274\n",
        "print(\"Conversor de Celsius para Kelvin\")\n",
        "celsius = float(input(\"Digite um valor de Celsius: \"))\n",
        "kelvin = celsius * 274\n",
        "print(\"A conversão de \", celsius, \"graus celsius para kelvin é \", kelvin)"
      ],
      "metadata": {
        "colab": {
          "base_uri": "https://localhost:8080/"
        },
        "id": "Ar8DLOh3_6TZ",
        "outputId": "681dfb60-4b66-47a5-8226-b3ff55163cf7"
      },
      "execution_count": 36,
      "outputs": [
        {
          "output_type": "stream",
          "name": "stdout",
          "text": [
            "Conversor de Celsius para Kelvin\n",
            "Digite um valor de Celsius: 22\n",
            "A conversão de  22.0 graus celsius para kelvin é  6028.0\n"
          ]
        }
      ]
    },
    {
      "cell_type": "markdown",
      "source": [
        "Estruturas de Controles (Condicionais) IF e Else"
      ],
      "metadata": {
        "id": "z9p0XpVPBBXR"
      }
    },
    {
      "cell_type": "code",
      "source": [
        "#Estruturas de Controle IF e Else\n",
        "#Pede a idade da Pessoa\n",
        "#Se for maior de 18 anos\n",
        "#Está apto ao concurso público\n",
        "nome = input(\"Qual o seu nome? \")\n",
        "idade = int(input(\"Digite a idade: \"))\n",
        "if(idade >= 18):\n",
        "  print(nome,\"Está apto ao concurso\")\n",
        "else:\n",
        "  print(nome,\"Não está apto ao concurso\")"
      ],
      "metadata": {
        "colab": {
          "base_uri": "https://localhost:8080/"
        },
        "id": "IMTsLiPNA7v5",
        "outputId": "59ff06a3-91f0-4087-a9bd-7b3b669a2e16"
      },
      "execution_count": 39,
      "outputs": [
        {
          "output_type": "stream",
          "name": "stdout",
          "text": [
            "Qual o seu nome? Lucas\n",
            "Digite a idade: 21\n",
            "Lucas Está apto ao concurso\n"
          ]
        }
      ]
    },
    {
      "cell_type": "code",
      "source": [
        "#Classificador de números\n",
        "#Recebe um número e diz se ele é positivo, negativo ou zero\n",
        "num1 = float(input(\"Digite um número: \"))\n",
        "if(num1 > 0):\n",
        "  print(num1,\"é positivo pois é maior que zero\")\n",
        "elif(num1 < 0):\n",
        "  print(num1,\"é negativo pois é menor que zero\")\n",
        "else:\n",
        "  print(num1,\"é igual a zero\")"
      ],
      "metadata": {
        "colab": {
          "base_uri": "https://localhost:8080/"
        },
        "id": "EqUxEY6PD1ON",
        "outputId": "440278c6-b7cf-4e5d-83e9-f4b38e7ee0b2"
      },
      "execution_count": 42,
      "outputs": [
        {
          "output_type": "stream",
          "name": "stdout",
          "text": [
            "Digite um número: 0\n",
            "0.0 é igual a zero\n"
          ]
        }
      ]
    },
    {
      "cell_type": "code",
      "source": [
        "#Recebe dois números\n",
        "#Diz qual é o maior\n",
        "#Informa se eles forem iguais\n",
        "number1 = float(input(\"Digite um número: \"))\n",
        "number2 = float(input(\"Digite outro número: \"))\n",
        "if(number1 > number2):\n",
        "  print(number1, \"é maior que \", number2)\n",
        "elif(number1 < number2):\n",
        "  print(number2, \"é maior que \", number2)\n",
        "else:\n",
        "  print(number1, \"é igual a \", number2)"
      ],
      "metadata": {
        "colab": {
          "base_uri": "https://localhost:8080/"
        },
        "id": "kDT00aDhFIRG",
        "outputId": "5f1d41e3-5118-476d-f11e-f33ca39e7207"
      },
      "execution_count": 45,
      "outputs": [
        {
          "output_type": "stream",
          "name": "stdout",
          "text": [
            "Digite um número: 12\n",
            "Digite outro número: 12\n",
            "12.0 é igual a  12.0\n"
          ]
        }
      ]
    },
    {
      "cell_type": "code",
      "source": [],
      "metadata": {
        "id": "Sb6zArr_HmR5"
      },
      "execution_count": null,
      "outputs": []
    }
  ]
}